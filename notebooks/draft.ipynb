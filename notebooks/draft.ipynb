{
 "cells": [
  {
   "cell_type": "code",
   "execution_count": 1,
   "metadata": {},
   "outputs": [],
   "source": [
    "import pandas as pd"
   ]
  },
  {
   "cell_type": "code",
   "execution_count": 6,
   "metadata": {},
   "outputs": [
    {
     "data": {
      "text/html": [
       "<div>\n",
       "<style scoped>\n",
       "    .dataframe tbody tr th:only-of-type {\n",
       "        vertical-align: middle;\n",
       "    }\n",
       "\n",
       "    .dataframe tbody tr th {\n",
       "        vertical-align: top;\n",
       "    }\n",
       "\n",
       "    .dataframe thead th {\n",
       "        text-align: right;\n",
       "    }\n",
       "</style>\n",
       "<table border=\"1\" class=\"dataframe\">\n",
       "  <thead>\n",
       "    <tr style=\"text-align: right;\">\n",
       "      <th></th>\n",
       "      <th>0</th>\n",
       "      <th>1</th>\n",
       "      <th>2</th>\n",
       "      <th>3</th>\n",
       "    </tr>\n",
       "  </thead>\n",
       "  <tbody>\n",
       "  </tbody>\n",
       "</table>\n",
       "</div>"
      ],
      "text/plain": [
       "Empty DataFrame\n",
       "Columns: [0, 1, 2, 3]\n",
       "Index: []"
      ]
     },
     "execution_count": 6,
     "metadata": {},
     "output_type": "execute_result"
    }
   ],
   "source": [
    "df = pd.DataFrame(columns=[0, 1, 2, 3])\n",
    "df"
   ]
  },
  {
   "cell_type": "code",
   "execution_count": 16,
   "metadata": {},
   "outputs": [],
   "source": [
    "df = df.append([[3,3,3,3], [4,4,4,4]])"
   ]
  },
  {
   "cell_type": "code",
   "execution_count": 17,
   "metadata": {},
   "outputs": [
    {
     "data": {
      "text/html": [
       "<div>\n",
       "<style scoped>\n",
       "    .dataframe tbody tr th:only-of-type {\n",
       "        vertical-align: middle;\n",
       "    }\n",
       "\n",
       "    .dataframe tbody tr th {\n",
       "        vertical-align: top;\n",
       "    }\n",
       "\n",
       "    .dataframe thead th {\n",
       "        text-align: right;\n",
       "    }\n",
       "</style>\n",
       "<table border=\"1\" class=\"dataframe\">\n",
       "  <thead>\n",
       "    <tr style=\"text-align: right;\">\n",
       "      <th></th>\n",
       "      <th>0</th>\n",
       "      <th>1</th>\n",
       "      <th>2</th>\n",
       "      <th>3</th>\n",
       "    </tr>\n",
       "  </thead>\n",
       "  <tbody>\n",
       "    <tr>\n",
       "      <th>0</th>\n",
       "      <td>1</td>\n",
       "      <td>1</td>\n",
       "      <td>3</td>\n",
       "      <td>2</td>\n",
       "    </tr>\n",
       "    <tr>\n",
       "      <th>0</th>\n",
       "      <td>1</td>\n",
       "      <td>1</td>\n",
       "      <td>3</td>\n",
       "      <td>2</td>\n",
       "    </tr>\n",
       "    <tr>\n",
       "      <th>0</th>\n",
       "      <td>3</td>\n",
       "      <td>3</td>\n",
       "      <td>3</td>\n",
       "      <td>3</td>\n",
       "    </tr>\n",
       "    <tr>\n",
       "      <th>0</th>\n",
       "      <td>3</td>\n",
       "      <td>3</td>\n",
       "      <td>3</td>\n",
       "      <td>3</td>\n",
       "    </tr>\n",
       "    <tr>\n",
       "      <th>1</th>\n",
       "      <td>4</td>\n",
       "      <td>4</td>\n",
       "      <td>4</td>\n",
       "      <td>4</td>\n",
       "    </tr>\n",
       "  </tbody>\n",
       "</table>\n",
       "</div>"
      ],
      "text/plain": [
       "   0  1  2  3\n",
       "0  1  1  3  2\n",
       "0  1  1  3  2\n",
       "0  3  3  3  3\n",
       "0  3  3  3  3\n",
       "1  4  4  4  4"
      ]
     },
     "execution_count": 17,
     "metadata": {},
     "output_type": "execute_result"
    }
   ],
   "source": [
    "df"
   ]
  },
  {
   "cell_type": "code",
   "execution_count": 20,
   "metadata": {},
   "outputs": [],
   "source": [
    "test_str = \"i am the man .\""
   ]
  },
  {
   "cell_type": "code",
   "execution_count": 21,
   "metadata": {
    "scrolled": true
   },
   "outputs": [
    {
     "data": {
      "text/plain": [
       "['i', 'am', 'the', 'man', '.']"
      ]
     },
     "execution_count": 21,
     "metadata": {},
     "output_type": "execute_result"
    }
   ],
   "source": [
    "test_str.split(\" \")"
   ]
  },
  {
   "cell_type": "code",
   "execution_count": 22,
   "metadata": {},
   "outputs": [
    {
     "data": {
      "text/plain": [
       "'i am the man .'"
      ]
     },
     "execution_count": 22,
     "metadata": {},
     "output_type": "execute_result"
    }
   ],
   "source": [
    "test_str"
   ]
  },
  {
   "cell_type": "code",
   "execution_count": 24,
   "metadata": {},
   "outputs": [
    {
     "name": "stdout",
     "output_type": "stream",
     "text": [
      "dfezfzsdfs ds\n"
     ]
    }
   ],
   "source": [
    "print('dfezfz\\\n",
    "sdfs ds')"
   ]
  },
  {
   "cell_type": "code",
   "execution_count": 26,
   "metadata": {},
   "outputs": [
    {
     "name": "stdout",
     "output_type": "stream",
     "text": [
      "s df2\n"
     ]
    }
   ],
   "source": [
    "bb = 2\n",
    "print(\"s{}df{}\".format(\" \", bb))"
   ]
  },
  {
   "cell_type": "code",
   "execution_count": 27,
   "metadata": {},
   "outputs": [],
   "source": [
    "from itertools import product"
   ]
  },
  {
   "cell_type": "code",
   "execution_count": 32,
   "metadata": {},
   "outputs": [
    {
     "name": "stdout",
     "output_type": "stream",
     "text": [
      "1 1 1\n",
      "1 1 2\n",
      "1 2 1\n",
      "1 2 2\n",
      "1 3 1\n",
      "1 3 2\n",
      "2 1 1\n",
      "2 1 2\n",
      "2 2 1\n",
      "2 2 2\n",
      "2 3 1\n",
      "2 3 2\n"
     ]
    }
   ],
   "source": [
    "for i,j,k in product([1,2], range(1,4), range(1,3)):\n",
    "    print(i,j,k)"
   ]
  },
  {
   "cell_type": "code",
   "execution_count": 33,
   "metadata": {},
   "outputs": [],
   "source": [
    "import os"
   ]
  },
  {
   "cell_type": "code",
   "execution_count": 63,
   "metadata": {},
   "outputs": [],
   "source": [
    "os.remove(\"return\")"
   ]
  },
  {
   "cell_type": "code",
   "execution_count": 65,
   "metadata": {},
   "outputs": [
    {
     "name": "stdout",
     "output_type": "stream",
     "text": [
      "190227_playing_with_coref_data_1.ipynb\r\n",
      "190304_playing_with_coref_data_2.ipynb\r\n",
      "190329_preprocessing_data_for_task_1.ipynb\r\n",
      "220327_playing_with_gender_number_data_1.ipynb\r\n",
      "Untitled.ipynb\r\n"
     ]
    }
   ],
   "source": [
    "!ls"
   ]
  },
  {
   "cell_type": "code",
   "execution_count": 49,
   "metadata": {},
   "outputs": [],
   "source": [
    "ttt = !python \"return\""
   ]
  },
  {
   "cell_type": "code",
   "execution_count": 53,
   "metadata": {},
   "outputs": [],
   "source": [
    "ttt = [\"a\", \"b\", \"c\"]"
   ]
  },
  {
   "cell_type": "code",
   "execution_count": 57,
   "metadata": {},
   "outputs": [],
   "source": [
    "with open(\"return\", \"a\") as f:\n",
    "    f.write(\",\".join(ttt))"
   ]
  },
  {
   "cell_type": "code",
   "execution_count": 59,
   "metadata": {},
   "outputs": [],
   "source": [
    "with open(\"return\", \"a\") as f:\n",
    "    f.write(\"\\n\")"
   ]
  },
  {
   "cell_type": "code",
   "execution_count": 60,
   "metadata": {},
   "outputs": [
    {
     "ename": "TypeError",
     "evalue": "unsupported operand type(s) for ** or pow(): 'list' and 'int'",
     "output_type": "error",
     "traceback": [
      "\u001b[0;31m---------------------------------------------------------------------------\u001b[0m",
      "\u001b[0;31mTypeError\u001b[0m                                 Traceback (most recent call last)",
      "\u001b[0;32m<ipython-input-60-e040df807812>\u001b[0m in \u001b[0;36m<module>\u001b[0;34m\u001b[0m\n\u001b[0;32m----> 1\u001b[0;31m \u001b[0;34m[\u001b[0m\u001b[0;36m1\u001b[0m\u001b[0;34m,\u001b[0m \u001b[0;36m2\u001b[0m\u001b[0;34m,\u001b[0m \u001b[0;36m3\u001b[0m\u001b[0;34m]\u001b[0m\u001b[0;34m**\u001b[0m\u001b[0;36m2\u001b[0m\u001b[0;34m\u001b[0m\u001b[0;34m\u001b[0m\u001b[0m\n\u001b[0m",
      "\u001b[0;31mTypeError\u001b[0m: unsupported operand type(s) for ** or pow(): 'list' and 'int'"
     ]
    }
   ],
   "source": [
    "[1, 2, 3]**2"
   ]
  },
  {
   "cell_type": "code",
   "execution_count": 67,
   "metadata": {},
   "outputs": [],
   "source": [
    "for file in os.listdir(\"testttt\"):\n",
    "    os.remove(\"testttt/{}\".format(file))"
   ]
  },
  {
   "cell_type": "code",
   "execution_count": 1,
   "metadata": {},
   "outputs": [],
   "source": [
    "def funct1():\n",
    "    return 1, 2"
   ]
  },
  {
   "cell_type": "code",
   "execution_count": 6,
   "metadata": {},
   "outputs": [],
   "source": [
    "a = funct1()"
   ]
  },
  {
   "cell_type": "code",
   "execution_count": 7,
   "metadata": {},
   "outputs": [
    {
     "data": {
      "text/plain": [
       "(1, 2)"
      ]
     },
     "execution_count": 7,
     "metadata": {},
     "output_type": "execute_result"
    }
   ],
   "source": [
    "a\n"
   ]
  },
  {
   "cell_type": "code",
   "execution_count": 8,
   "metadata": {},
   "outputs": [
    {
     "data": {
      "text/plain": [
       "2"
      ]
     },
     "execution_count": 8,
     "metadata": {},
     "output_type": "execute_result"
    }
   ],
   "source": [
    "b\n"
   ]
  },
  {
   "cell_type": "code",
   "execution_count": 9,
   "metadata": {},
   "outputs": [],
   "source": [
    "import torch"
   ]
  },
  {
   "cell_type": "code",
   "execution_count": 12,
   "metadata": {},
   "outputs": [],
   "source": [
    "a = torch.tensor([])"
   ]
  },
  {
   "cell_type": "code",
   "execution_count": 13,
   "metadata": {},
   "outputs": [
    {
     "data": {
      "text/plain": [
       "tensor([])"
      ]
     },
     "execution_count": 13,
     "metadata": {},
     "output_type": "execute_result"
    }
   ],
   "source": [
    "a + 5"
   ]
  },
  {
   "cell_type": "code",
   "execution_count": 18,
   "metadata": {},
   "outputs": [
    {
     "data": {
      "text/plain": [
       "[tensor([]),\n",
       " tensor([]),\n",
       " tensor([]),\n",
       " tensor([]),\n",
       " tensor([]),\n",
       " tensor([]),\n",
       " tensor([]),\n",
       " tensor([]),\n",
       " tensor([]),\n",
       " tensor([])]"
      ]
     },
     "execution_count": 18,
     "metadata": {},
     "output_type": "execute_result"
    }
   ],
   "source": [
    "[torch.tensor([])]*10"
   ]
  },
  {
   "cell_type": "code",
   "execution_count": 15,
   "metadata": {},
   "outputs": [
    {
     "data": {
      "text/plain": [
       "tensor([0, 0, 0, 0, 0, 0, 0, 0, 0, 0])"
      ]
     },
     "execution_count": 15,
     "metadata": {},
     "output_type": "execute_result"
    }
   ],
   "source": [
    "torch.tensor([0]*10)"
   ]
  },
  {
   "cell_type": "code",
   "execution_count": 26,
   "metadata": {},
   "outputs": [],
   "source": [
    "x = torch.randn(5, 1, 12)"
   ]
  },
  {
   "cell_type": "code",
   "execution_count": 27,
   "metadata": {},
   "outputs": [
    {
     "data": {
      "text/plain": [
       "tensor([[[-1.3903, -1.5483, -0.7638, -1.5805, -0.4694, -0.2566,  0.8114,\n",
       "           0.6560,  1.1036,  0.8736,  0.3500, -0.5831]],\n",
       "\n",
       "        [[ 0.4738,  0.4479, -0.0609, -0.2394, -1.5951, -0.2654,  0.7891,\n",
       "          -0.2661, -1.3254,  0.2729,  1.9358, -0.1579]],\n",
       "\n",
       "        [[-0.2843, -0.5474,  0.2121,  1.6104,  0.0241, -1.3829, -0.9076,\n",
       "          -0.3448, -0.8054, -1.0063,  0.0473,  0.9872]],\n",
       "\n",
       "        [[-0.4128,  1.5624,  0.0803,  1.3247,  0.2518, -2.0577, -0.7592,\n",
       "          -0.5317,  1.3885,  1.0565,  0.3480, -1.0110]],\n",
       "\n",
       "        [[-0.1624,  0.0646,  1.1704, -0.1214, -3.4541, -0.4016,  0.8063,\n",
       "           1.0609,  1.1733, -1.4047,  0.0775,  0.6466]]])"
      ]
     },
     "execution_count": 27,
     "metadata": {},
     "output_type": "execute_result"
    }
   ],
   "source": [
    "x"
   ]
  },
  {
   "cell_type": "code",
   "execution_count": 23,
   "metadata": {},
   "outputs": [
    {
     "data": {
      "text/plain": [
       "torch.Size([3, 1, 5])"
      ]
     },
     "execution_count": 23,
     "metadata": {},
     "output_type": "execute_result"
    }
   ],
   "source": [
    "torch.index_select(x, 1, torch.tensor(2)).shape"
   ]
  },
  {
   "cell_type": "code",
   "execution_count": 29,
   "metadata": {},
   "outputs": [
    {
     "data": {
      "text/plain": [
       "True"
      ]
     },
     "execution_count": 29,
     "metadata": {},
     "output_type": "execute_result"
    }
   ],
   "source": [
    "\"dfzf zfdez \"[0] == \"d\""
   ]
  },
  {
   "cell_type": "code",
   "execution_count": 37,
   "metadata": {},
   "outputs": [
    {
     "name": "stdout",
     "output_type": "stream",
     "text": [
      "O O O O B-N O O O O O O O O\n",
      "\n",
      "['O', 'O', 'O', 'O', 'B-N', 'O', 'O', 'O', 'O', 'O', 'O', 'O', 'O']\n"
     ]
    },
    {
     "ename": "AssertionError",
     "evalue": "",
     "output_type": "error",
     "traceback": [
      "\u001b[0;31m---------------------------------------------------------------------------\u001b[0m",
      "\u001b[0;31mAssertionError\u001b[0m                            Traceback (most recent call last)",
      "\u001b[0;32m<ipython-input-37-bd0e850cfc3c>\u001b[0m in \u001b[0;36m<module>\u001b[0;34m\u001b[0m\n\u001b[1;32m      4\u001b[0m         \u001b[0mprint\u001b[0m\u001b[0;34m(\u001b[0m\u001b[0mline\u001b[0m\u001b[0;34m)\u001b[0m\u001b[0;34m\u001b[0m\u001b[0;34m\u001b[0m\u001b[0m\n\u001b[1;32m      5\u001b[0m         \u001b[0mprint\u001b[0m\u001b[0;34m(\u001b[0m\u001b[0mline\u001b[0m\u001b[0;34m[\u001b[0m\u001b[0;34m:\u001b[0m\u001b[0;34m-\u001b[0m\u001b[0;36m1\u001b[0m\u001b[0;34m]\u001b[0m\u001b[0;34m.\u001b[0m\u001b[0msplit\u001b[0m\u001b[0;34m(\u001b[0m\u001b[0;34m\" \"\u001b[0m\u001b[0;34m)\u001b[0m\u001b[0;34m)\u001b[0m\u001b[0;34m\u001b[0m\u001b[0;34m\u001b[0m\u001b[0m\n\u001b[0;32m----> 6\u001b[0;31m         \u001b[0;32massert\u001b[0m \u001b[0;32mFalse\u001b[0m\u001b[0;34m\u001b[0m\u001b[0;34m\u001b[0m\u001b[0m\n\u001b[0m\u001b[1;32m      7\u001b[0m         \u001b[0mgold_labels\u001b[0m\u001b[0;34m.\u001b[0m\u001b[0mappend\u001b[0m\u001b[0;34m(\u001b[0m\u001b[0mline\u001b[0m\u001b[0;34m.\u001b[0m\u001b[0msplit\u001b[0m\u001b[0;34m(\u001b[0m\u001b[0;34m\" \"\u001b[0m\u001b[0;34m)\u001b[0m\u001b[0;34m)\u001b[0m\u001b[0;34m\u001b[0m\u001b[0;34m\u001b[0m\u001b[0m\n",
      "\u001b[0;31mAssertionError\u001b[0m: "
     ]
    }
   ],
   "source": [
    "gold_labels = []\n",
    "with open(\"../../data/structured_CoNLL_2012_to_preprocess/train.label\", \"r\") as f:\n",
    "    for line in f.readlines():\n",
    "        print(line)\n",
    "        print(line[:-1].split(\" \"))\n",
    "        assert False\n",
    "        gold_labels.append(line.split(\" \"))"
   ]
  },
  {
   "cell_type": "code",
   "execution_count": 39,
   "metadata": {},
   "outputs": [
    {
     "data": {
      "text/plain": [
       "[[], [], []]"
      ]
     },
     "execution_count": 39,
     "metadata": {},
     "output_type": "execute_result"
    }
   ],
   "source": [
    "[[]] * 3"
   ]
  },
  {
   "cell_type": "code",
   "execution_count": 54,
   "metadata": {},
   "outputs": [],
   "source": [
    "def find_all_sub(beg_idx, end_idx):\n",
    "    for sub_beg_idx in range(beg_idx, end_idx):\n",
    "        for sub_end_idx in range(sub_beg_idx+1, end_idx+1):\n",
    "            yield sub_beg_idx, sub_end_idx"
   ]
  },
  {
   "cell_type": "code",
   "execution_count": 56,
   "metadata": {},
   "outputs": [
    {
     "name": "stdout",
     "output_type": "stream",
     "text": [
      "1 2\n",
      "1 3\n",
      "1 4\n",
      "1 5\n",
      "2 3\n",
      "2 4\n",
      "2 5\n",
      "3 4\n",
      "3 5\n",
      "4 5\n"
     ]
    }
   ],
   "source": [
    "for x,y in find_all_sub(1,5):\n",
    "    print(x,y)\n",
    "    "
   ]
  },
  {
   "cell_type": "code",
   "execution_count": 49,
   "metadata": {},
   "outputs": [
    {
     "name": "stdout",
     "output_type": "stream",
     "text": [
      "[]\n"
     ]
    }
   ],
   "source": [
    "print(list(range(3,3)))"
   ]
  },
  {
   "cell_type": "code",
   "execution_count": 59,
   "metadata": {},
   "outputs": [],
   "source": [
    "def ye():\n",
    "    for i in range(3):\n",
    "        yield i\n",
    "    yield 7"
   ]
  },
  {
   "cell_type": "code",
   "execution_count": 60,
   "metadata": {},
   "outputs": [
    {
     "name": "stdout",
     "output_type": "stream",
     "text": [
      "0\n",
      "1\n",
      "2\n",
      "7\n"
     ]
    }
   ],
   "source": [
    "for i in ye():\n",
    "    print(i)"
   ]
  },
  {
   "cell_type": "code",
   "execution_count": 63,
   "metadata": {},
   "outputs": [],
   "source": [
    "def prepare_batches_indices(firsts, data_size):\n",
    "    beg = firsts[0]\n",
    "    for first in firsts[1:]:\n",
    "        yield (beg, first)\n",
    "        beg = first\n",
    "    yield (beg, data_size)"
   ]
  },
  {
   "cell_type": "code",
   "execution_count": 64,
   "metadata": {},
   "outputs": [],
   "source": [
    "l = [0, 10,12,23,40]\n",
    "dsize = 47"
   ]
  },
  {
   "cell_type": "code",
   "execution_count": 66,
   "metadata": {},
   "outputs": [
    {
     "name": "stdout",
     "output_type": "stream",
     "text": [
      "(0, 10)\n",
      "(10, 12)\n",
      "(12, 23)\n",
      "(23, 40)\n",
      "(40, 47)\n"
     ]
    }
   ],
   "source": [
    "for g in prepare_batches_indices(l, dsize):\n",
    "    print(g)"
   ]
  },
  {
   "cell_type": "code",
   "execution_count": 24,
   "metadata": {},
   "outputs": [],
   "source": [
    "import itertools"
   ]
  },
  {
   "cell_type": "code",
   "execution_count": 32,
   "metadata": {},
   "outputs": [],
   "source": [
    "class counted_class():\n",
    "    id_generator = itertools.count()\n",
    "    def __init__(self):\n",
    "        self.id = next(counted_class.id_generator)\n",
    "        self.dede = 11\n",
    "    def update_dede(self):\n",
    "        self.dede = 22"
   ]
  },
  {
   "cell_type": "code",
   "execution_count": 41,
   "metadata": {},
   "outputs": [],
   "source": [
    "a = counted_class()"
   ]
  },
  {
   "cell_type": "code",
   "execution_count": 44,
   "metadata": {},
   "outputs": [
    {
     "data": {
      "text/plain": [
       "22"
      ]
     },
     "execution_count": 44,
     "metadata": {},
     "output_type": "execute_result"
    }
   ],
   "source": [
    "a.dede"
   ]
  },
  {
   "cell_type": "code",
   "execution_count": 46,
   "metadata": {},
   "outputs": [
    {
     "data": {
      "text/plain": [
       "True"
      ]
     },
     "execution_count": 46,
     "metadata": {},
     "output_type": "execute_result"
    }
   ],
   "source": [
    "type(a) == counted_class"
   ]
  },
  {
   "cell_type": "code",
   "execution_count": 43,
   "metadata": {},
   "outputs": [],
   "source": [
    "a.update_dede()"
   ]
  },
  {
   "cell_type": "code",
   "execution_count": 94,
   "metadata": {},
   "outputs": [],
   "source": [
    "a = counted_class()\n",
    "b = counted_class()\n",
    "c = counted_class()"
   ]
  },
  {
   "cell_type": "code",
   "execution_count": 95,
   "metadata": {},
   "outputs": [
    {
     "data": {
      "text/plain": [
       "2"
      ]
     },
     "execution_count": 95,
     "metadata": {},
     "output_type": "execute_result"
    }
   ],
   "source": [
    "c.id"
   ]
  },
  {
   "cell_type": "code",
   "execution_count": 93,
   "metadata": {},
   "outputs": [],
   "source": [
    "counted_class.id_generator = itertools.count()"
   ]
  },
  {
   "cell_type": "code",
   "execution_count": 1,
   "metadata": {},
   "outputs": [],
   "source": [
    "set = 3\n"
   ]
  },
  {
   "cell_type": "code",
   "execution_count": 3,
   "metadata": {
    "scrolled": true
   },
   "outputs": [
    {
     "ename": "TypeError",
     "evalue": "'int' object is not callable",
     "output_type": "error",
     "traceback": [
      "\u001b[0;31m---------------------------------------------------------------------------\u001b[0m",
      "\u001b[0;31mTypeError\u001b[0m                                 Traceback (most recent call last)",
      "\u001b[0;32m<ipython-input-3-e814dfddfc25>\u001b[0m in \u001b[0;36m<module>\u001b[0;34m\u001b[0m\n\u001b[0;32m----> 1\u001b[0;31m \u001b[0mset\u001b[0m\u001b[0;34m(\u001b[0m\u001b[0;34m)\u001b[0m\u001b[0;34m\u001b[0m\u001b[0;34m\u001b[0m\u001b[0m\n\u001b[0m",
      "\u001b[0;31mTypeError\u001b[0m: 'int' object is not callable"
     ]
    }
   ],
   "source": [
    "set()"
   ]
  },
  {
   "cell_type": "code",
   "execution_count": 1,
   "metadata": {},
   "outputs": [],
   "source": [
    "import pandas as pd"
   ]
  },
  {
   "cell_type": "code",
   "execution_count": 2,
   "metadata": {},
   "outputs": [],
   "source": [
    "test_df = pd.read_csv(\"../../data/structured_CoNLL_2012/test.csv\")"
   ]
  },
  {
   "cell_type": "code",
   "execution_count": 3,
   "metadata": {},
   "outputs": [
    {
     "data": {
      "text/html": [
       "<div>\n",
       "<style scoped>\n",
       "    .dataframe tbody tr th:only-of-type {\n",
       "        vertical-align: middle;\n",
       "    }\n",
       "\n",
       "    .dataframe tbody tr th {\n",
       "        vertical-align: top;\n",
       "    }\n",
       "\n",
       "    .dataframe thead th {\n",
       "        text-align: right;\n",
       "    }\n",
       "</style>\n",
       "<table border=\"1\" class=\"dataframe\">\n",
       "  <thead>\n",
       "    <tr style=\"text-align: right;\">\n",
       "      <th></th>\n",
       "      <th>Unnamed: 0</th>\n",
       "      <th>col0</th>\n",
       "      <th>col0.1</th>\n",
       "      <th>col1</th>\n",
       "      <th>col2</th>\n",
       "      <th>col3</th>\n",
       "      <th>col4</th>\n",
       "      <th>col5</th>\n",
       "      <th>col6</th>\n",
       "      <th>col7</th>\n",
       "      <th>col8</th>\n",
       "      <th>col9</th>\n",
       "      <th>col10</th>\n",
       "      <th>col11</th>\n",
       "      <th>col12</th>\n",
       "      <th>col13</th>\n",
       "      <th>col14</th>\n",
       "    </tr>\n",
       "  </thead>\n",
       "  <tbody>\n",
       "    <tr>\n",
       "      <th>0</th>\n",
       "      <td>0</td>\n",
       "      <td>pt/nt/44/nt_4409</td>\n",
       "      <td>pt</td>\n",
       "      <td>0</td>\n",
       "      <td>0</td>\n",
       "      <td>In</td>\n",
       "      <td>IN</td>\n",
       "      <td>(TOP(S(PP*</td>\n",
       "      <td>-</td>\n",
       "      <td>-</td>\n",
       "      <td>-</td>\n",
       "      <td>Acts</td>\n",
       "      <td>*</td>\n",
       "      <td>-</td>\n",
       "      <td>O</td>\n",
       "      <td>O</td>\n",
       "      <td>O</td>\n",
       "    </tr>\n",
       "    <tr>\n",
       "      <th>1</th>\n",
       "      <td>1</td>\n",
       "      <td>pt/nt/44/nt_4409</td>\n",
       "      <td>pt</td>\n",
       "      <td>0</td>\n",
       "      <td>1</td>\n",
       "      <td>Jerusalem</td>\n",
       "      <td>NNP</td>\n",
       "      <td>(NP*))</td>\n",
       "      <td>-</td>\n",
       "      <td>-</td>\n",
       "      <td>-</td>\n",
       "      <td>Acts</td>\n",
       "      <td>*</td>\n",
       "      <td>(6)</td>\n",
       "      <td>B</td>\n",
       "      <td>B-N</td>\n",
       "      <td>B-N</td>\n",
       "    </tr>\n",
       "    <tr>\n",
       "      <th>2</th>\n",
       "      <td>2</td>\n",
       "      <td>pt/nt/44/nt_4409</td>\n",
       "      <td>pt</td>\n",
       "      <td>0</td>\n",
       "      <td>2</td>\n",
       "      <td>Saul</td>\n",
       "      <td>NNP</td>\n",
       "      <td>(NP*)</td>\n",
       "      <td>-</td>\n",
       "      <td>-</td>\n",
       "      <td>-</td>\n",
       "      <td>Acts</td>\n",
       "      <td>*</td>\n",
       "      <td>(9)</td>\n",
       "      <td>B</td>\n",
       "      <td>B-N</td>\n",
       "      <td>B-N</td>\n",
       "    </tr>\n",
       "    <tr>\n",
       "      <th>3</th>\n",
       "      <td>3</td>\n",
       "      <td>pt/nt/44/nt_4409</td>\n",
       "      <td>pt</td>\n",
       "      <td>0</td>\n",
       "      <td>3</td>\n",
       "      <td>was</td>\n",
       "      <td>VBD</td>\n",
       "      <td>(VP*</td>\n",
       "      <td>-</td>\n",
       "      <td>-</td>\n",
       "      <td>-</td>\n",
       "      <td>Acts</td>\n",
       "      <td>*</td>\n",
       "      <td>-</td>\n",
       "      <td>O</td>\n",
       "      <td>O</td>\n",
       "      <td>O</td>\n",
       "    </tr>\n",
       "    <tr>\n",
       "      <th>4</th>\n",
       "      <td>4</td>\n",
       "      <td>pt/nt/44/nt_4409</td>\n",
       "      <td>pt</td>\n",
       "      <td>0</td>\n",
       "      <td>4</td>\n",
       "      <td>still</td>\n",
       "      <td>RB</td>\n",
       "      <td>(ADVP*)</td>\n",
       "      <td>-</td>\n",
       "      <td>-</td>\n",
       "      <td>-</td>\n",
       "      <td>Acts</td>\n",
       "      <td>*</td>\n",
       "      <td>-</td>\n",
       "      <td>O</td>\n",
       "      <td>O</td>\n",
       "      <td>O</td>\n",
       "    </tr>\n",
       "  </tbody>\n",
       "</table>\n",
       "</div>"
      ],
      "text/plain": [
       "   Unnamed: 0              col0 col0.1  col1  col2       col3 col4  \\\n",
       "0           0  pt/nt/44/nt_4409     pt     0     0         In   IN   \n",
       "1           1  pt/nt/44/nt_4409     pt     0     1  Jerusalem  NNP   \n",
       "2           2  pt/nt/44/nt_4409     pt     0     2       Saul  NNP   \n",
       "3           3  pt/nt/44/nt_4409     pt     0     3        was  VBD   \n",
       "4           4  pt/nt/44/nt_4409     pt     0     4      still   RB   \n",
       "\n",
       "         col5 col6 col7 col8  col9 col10 col11 col12 col13 col14  \n",
       "0  (TOP(S(PP*    -    -    -  Acts     *     -     O     O     O  \n",
       "1      (NP*))    -    -    -  Acts     *   (6)     B   B-N   B-N  \n",
       "2       (NP*)    -    -    -  Acts     *   (9)     B   B-N   B-N  \n",
       "3        (VP*    -    -    -  Acts     *     -     O     O     O  \n",
       "4     (ADVP*)    -    -    -  Acts     *     -     O     O     O  "
      ]
     },
     "execution_count": 3,
     "metadata": {},
     "output_type": "execute_result"
    }
   ],
   "source": [
    "test_df.head()"
   ]
  },
  {
   "cell_type": "code",
   "execution_count": 4,
   "metadata": {},
   "outputs": [
    {
     "data": {
      "text/plain": [
       "['In',\n",
       " 'Jerusalem',\n",
       " 'Saul',\n",
       " 'was',\n",
       " 'still',\n",
       " 'trying',\n",
       " 'to',\n",
       " 'scare',\n",
       " 'the',\n",
       " 'followers',\n",
       " 'of',\n",
       " 'the',\n",
       " 'Lord',\n",
       " ',',\n",
       " 'even',\n",
       " 'saying',\n",
       " 'he',\n",
       " 'would',\n",
       " 'kill',\n",
       " 'them',\n",
       " '.',\n",
       " 'He',\n",
       " 'went',\n",
       " 'to',\n",
       " 'the',\n",
       " 'high',\n",
       " 'priest',\n",
       " 'and',\n",
       " 'asked',\n",
       " 'him',\n",
       " 'to',\n",
       " 'write',\n",
       " 'letters',\n",
       " 'to',\n",
       " 'the',\n",
       " 'synagogues',\n",
       " 'in',\n",
       " 'the',\n",
       " 'city',\n",
       " 'of',\n",
       " 'Damascus',\n",
       " '.',\n",
       " 'Saul',\n",
       " 'wanted',\n",
       " 'the',\n",
       " 'high',\n",
       " 'priest',\n",
       " 'to',\n",
       " 'give',\n",
       " 'him',\n",
       " 'the',\n",
       " 'authority',\n",
       " 'to',\n",
       " 'find',\n",
       " 'people',\n",
       " 'in',\n",
       " 'Damascus',\n",
       " 'who',\n",
       " 'were',\n",
       " 'followers',\n",
       " 'of',\n",
       " 'the',\n",
       " 'Way',\n",
       " '.',\n",
       " 'If',\n",
       " 'he',\n",
       " 'found',\n",
       " 'any',\n",
       " 'believers',\n",
       " 'there',\n",
       " ',',\n",
       " 'men',\n",
       " 'or',\n",
       " 'women',\n",
       " ',',\n",
       " 'he',\n",
       " 'would',\n",
       " 'arrest',\n",
       " 'them',\n",
       " 'and',\n",
       " 'bring',\n",
       " 'them',\n",
       " 'back',\n",
       " 'to',\n",
       " 'Jerusalem',\n",
       " '.',\n",
       " 'So',\n",
       " 'Saul',\n",
       " 'went',\n",
       " 'to',\n",
       " 'Damascus',\n",
       " '.',\n",
       " 'When',\n",
       " 'he',\n",
       " 'came',\n",
       " 'near',\n",
       " 'the',\n",
       " 'city',\n",
       " ',',\n",
       " 'a',\n",
       " 'very',\n",
       " 'bright',\n",
       " 'light',\n",
       " 'from',\n",
       " 'heaven',\n",
       " 'suddenly',\n",
       " 'shined',\n",
       " 'around',\n",
       " 'him',\n",
       " '.',\n",
       " 'He',\n",
       " 'fell',\n",
       " 'to',\n",
       " 'the',\n",
       " 'ground',\n",
       " 'and',\n",
       " 'heard',\n",
       " 'a',\n",
       " 'voice',\n",
       " 'saying',\n",
       " 'to',\n",
       " 'him',\n",
       " ',',\n",
       " '``',\n",
       " 'Saul',\n",
       " ',',\n",
       " 'Saul',\n",
       " '!',\n",
       " 'Why',\n",
       " 'are',\n",
       " 'you',\n",
       " 'persecuting',\n",
       " 'me',\n",
       " '?',\n",
       " \"''\",\n",
       " 'Saul',\n",
       " 'said',\n",
       " ',',\n",
       " '``',\n",
       " 'Who',\n",
       " 'are',\n",
       " 'you',\n",
       " ',',\n",
       " 'Lord',\n",
       " '?',\n",
       " \"''\",\n",
       " 'The',\n",
       " 'voice',\n",
       " 'answered',\n",
       " ',',\n",
       " '``',\n",
       " 'I',\n",
       " 'am',\n",
       " 'Jesus',\n",
       " ',',\n",
       " 'the',\n",
       " 'one',\n",
       " 'you',\n",
       " 'are',\n",
       " 'persecuting',\n",
       " '.',\n",
       " 'Get',\n",
       " 'up',\n",
       " 'now',\n",
       " 'and',\n",
       " 'go',\n",
       " 'into',\n",
       " 'the',\n",
       " 'city',\n",
       " '.',\n",
       " 'Someone',\n",
       " 'there',\n",
       " 'will',\n",
       " 'tell',\n",
       " 'you',\n",
       " 'what',\n",
       " 'you',\n",
       " 'must',\n",
       " 'do',\n",
       " '.',\n",
       " \"''\",\n",
       " 'The',\n",
       " 'men',\n",
       " 'traveling',\n",
       " 'with',\n",
       " 'Saul',\n",
       " 'just',\n",
       " 'stood',\n",
       " 'there',\n",
       " ',',\n",
       " 'unable',\n",
       " 'to',\n",
       " 'speak',\n",
       " '.',\n",
       " 'They',\n",
       " 'heard',\n",
       " 'the',\n",
       " 'voice',\n",
       " ',',\n",
       " 'but',\n",
       " 'they',\n",
       " 'saw',\n",
       " 'no',\n",
       " 'one',\n",
       " '.',\n",
       " 'Saul',\n",
       " 'got',\n",
       " 'up',\n",
       " 'from',\n",
       " 'the',\n",
       " 'ground',\n",
       " 'and',\n",
       " 'opened',\n",
       " 'his',\n",
       " 'eyes',\n",
       " ',',\n",
       " 'but',\n",
       " 'he',\n",
       " 'could',\n",
       " 'not',\n",
       " 'see',\n",
       " '.',\n",
       " 'So',\n",
       " 'the',\n",
       " 'men',\n",
       " 'with',\n",
       " 'him',\n",
       " 'held',\n",
       " 'his',\n",
       " 'hand',\n",
       " 'and',\n",
       " 'led',\n",
       " 'him',\n",
       " 'into',\n",
       " 'Damascus',\n",
       " '.',\n",
       " 'For',\n",
       " 'three',\n",
       " 'days',\n",
       " 'Saul',\n",
       " 'could',\n",
       " 'not',\n",
       " 'see',\n",
       " ';',\n",
       " 'he',\n",
       " 'did',\n",
       " 'not',\n",
       " 'eat',\n",
       " 'or',\n",
       " 'drink',\n",
       " '.',\n",
       " 'There',\n",
       " 'was',\n",
       " 'a',\n",
       " 'follower',\n",
       " 'of',\n",
       " 'Jesus',\n",
       " 'in',\n",
       " 'Damascus',\n",
       " 'named',\n",
       " 'Ananias',\n",
       " '.',\n",
       " 'In',\n",
       " 'a',\n",
       " 'vision',\n",
       " 'the',\n",
       " 'Lord',\n",
       " 'said',\n",
       " 'to',\n",
       " 'him',\n",
       " ',',\n",
       " '``',\n",
       " 'Ananias',\n",
       " '!',\n",
       " \"''\",\n",
       " 'Ananias',\n",
       " 'answered',\n",
       " ',',\n",
       " '``',\n",
       " 'Here',\n",
       " 'I',\n",
       " 'am',\n",
       " ',',\n",
       " 'Lord',\n",
       " '.',\n",
       " \"''\",\n",
       " 'The',\n",
       " 'Lord',\n",
       " 'said',\n",
       " 'to',\n",
       " 'him',\n",
       " ',',\n",
       " '``',\n",
       " 'Get',\n",
       " 'up',\n",
       " 'and',\n",
       " 'go',\n",
       " 'to',\n",
       " 'the',\n",
       " 'street',\n",
       " 'called',\n",
       " 'Straight',\n",
       " 'Street',\n",
       " '.',\n",
       " 'Find',\n",
       " 'the',\n",
       " 'house',\n",
       " 'of',\n",
       " 'Judas',\n",
       " 'and',\n",
       " 'ask',\n",
       " 'for',\n",
       " 'a',\n",
       " 'man',\n",
       " 'named',\n",
       " 'Saul',\n",
       " 'from',\n",
       " 'the',\n",
       " 'city',\n",
       " 'of',\n",
       " 'Tarsus',\n",
       " '.',\n",
       " 'He',\n",
       " 'is',\n",
       " 'there',\n",
       " 'now',\n",
       " ',',\n",
       " 'praying',\n",
       " '.',\n",
       " 'He',\n",
       " 'has',\n",
       " 'seen',\n",
       " 'a',\n",
       " 'vision',\n",
       " 'in',\n",
       " 'which',\n",
       " 'a',\n",
       " 'man',\n",
       " 'named',\n",
       " 'Ananias',\n",
       " 'came',\n",
       " 'and',\n",
       " 'laid',\n",
       " 'his',\n",
       " 'hands',\n",
       " 'on',\n",
       " 'him',\n",
       " 'so',\n",
       " 'that',\n",
       " 'he',\n",
       " 'could',\n",
       " 'see',\n",
       " 'again',\n",
       " '.',\n",
       " \"''\",\n",
       " 'But',\n",
       " 'Ananias',\n",
       " 'answered',\n",
       " ',',\n",
       " '``',\n",
       " 'Lord',\n",
       " ',',\n",
       " 'many',\n",
       " 'people',\n",
       " 'have',\n",
       " 'told',\n",
       " 'me',\n",
       " 'about',\n",
       " 'this',\n",
       " 'man',\n",
       " '.',\n",
       " 'They',\n",
       " 'told',\n",
       " 'me',\n",
       " 'about',\n",
       " 'the',\n",
       " 'many',\n",
       " 'bad',\n",
       " 'things',\n",
       " 'he',\n",
       " 'did',\n",
       " 'to',\n",
       " 'your',\n",
       " 'holy',\n",
       " 'people',\n",
       " 'in',\n",
       " 'Jerusalem',\n",
       " '.',\n",
       " 'Now',\n",
       " 'he',\n",
       " 'has',\n",
       " 'come',\n",
       " 'here',\n",
       " 'to',\n",
       " 'Damascus',\n",
       " '.',\n",
       " 'The',\n",
       " 'leading',\n",
       " 'priests',\n",
       " 'have',\n",
       " 'given',\n",
       " 'him',\n",
       " 'the',\n",
       " 'power',\n",
       " 'to',\n",
       " 'arrest',\n",
       " 'all',\n",
       " 'people',\n",
       " 'who',\n",
       " 'trust',\n",
       " 'in',\n",
       " 'you',\n",
       " '.',\n",
       " \"''\",\n",
       " 'But',\n",
       " 'the',\n",
       " 'Lord',\n",
       " 'Jesus',\n",
       " 'said',\n",
       " 'to',\n",
       " 'Ananias',\n",
       " ',',\n",
       " '``',\n",
       " 'Go',\n",
       " '!',\n",
       " 'I',\n",
       " 'have',\n",
       " 'chosen',\n",
       " 'Saul',\n",
       " 'for',\n",
       " 'an',\n",
       " 'important',\n",
       " 'work',\n",
       " '.',\n",
       " 'He',\n",
       " 'must',\n",
       " 'tell',\n",
       " 'about',\n",
       " 'me',\n",
       " 'to',\n",
       " 'other',\n",
       " 'nations',\n",
       " 'and',\n",
       " 'their',\n",
       " 'rulers',\n",
       " 'and',\n",
       " 'to',\n",
       " 'the',\n",
       " 'people',\n",
       " 'of',\n",
       " 'Israel',\n",
       " '.',\n",
       " 'I',\n",
       " 'will',\n",
       " 'show',\n",
       " 'him',\n",
       " 'all',\n",
       " 'that',\n",
       " 'he',\n",
       " 'must',\n",
       " 'suffer',\n",
       " 'for',\n",
       " 'me',\n",
       " '.',\n",
       " \"''\",\n",
       " 'So',\n",
       " 'Ananias',\n",
       " 'left',\n",
       " 'and',\n",
       " 'went',\n",
       " 'to',\n",
       " 'the',\n",
       " 'house',\n",
       " 'of',\n",
       " 'Judas',\n",
       " '.',\n",
       " 'He',\n",
       " 'laid',\n",
       " 'his',\n",
       " 'hands',\n",
       " 'on',\n",
       " 'Saul',\n",
       " 'and',\n",
       " 'said',\n",
       " ',',\n",
       " '``',\n",
       " 'Saul',\n",
       " ',',\n",
       " 'my',\n",
       " 'brother',\n",
       " ',',\n",
       " 'the',\n",
       " 'Lord',\n",
       " 'Jesus',\n",
       " 'sent',\n",
       " 'me',\n",
       " '.',\n",
       " 'He',\n",
       " 'is',\n",
       " 'the',\n",
       " 'one',\n",
       " 'you',\n",
       " 'saw',\n",
       " 'on',\n",
       " 'the',\n",
       " 'road',\n",
       " 'when',\n",
       " 'you',\n",
       " 'came',\n",
       " 'here',\n",
       " '.',\n",
       " 'He',\n",
       " 'sent',\n",
       " 'me',\n",
       " 'so',\n",
       " 'that',\n",
       " 'you',\n",
       " 'can',\n",
       " 'see',\n",
       " 'again',\n",
       " 'and',\n",
       " 'also',\n",
       " 'be',\n",
       " 'filled',\n",
       " 'with',\n",
       " 'the',\n",
       " 'Holy',\n",
       " 'Spirit',\n",
       " '.',\n",
       " \"''\",\n",
       " 'Immediately',\n",
       " ',',\n",
       " 'something',\n",
       " 'that',\n",
       " 'looked',\n",
       " 'like',\n",
       " 'fish',\n",
       " 'scales',\n",
       " 'fell',\n",
       " 'off',\n",
       " 'Saul',\n",
       " \"'s\",\n",
       " 'eyes',\n",
       " '.',\n",
       " 'He',\n",
       " 'was',\n",
       " 'able',\n",
       " 'to',\n",
       " 'see',\n",
       " '!',\n",
       " 'Then',\n",
       " 'he',\n",
       " 'got',\n",
       " 'up',\n",
       " 'and',\n",
       " 'was',\n",
       " 'baptized',\n",
       " '.',\n",
       " 'After',\n",
       " 'he',\n",
       " 'ate',\n",
       " ',',\n",
       " 'he',\n",
       " 'began',\n",
       " 'to',\n",
       " 'feel',\n",
       " 'strong',\n",
       " 'again',\n",
       " '.',\n",
       " 'Saul',\n",
       " 'stayed',\n",
       " 'with',\n",
       " 'the',\n",
       " 'followers',\n",
       " 'of',\n",
       " 'Jesus',\n",
       " 'in',\n",
       " 'Damascus',\n",
       " 'for',\n",
       " 'a',\n",
       " 'few',\n",
       " 'days',\n",
       " '.',\n",
       " 'Soon',\n",
       " 'he',\n",
       " 'began',\n",
       " 'to',\n",
       " 'go',\n",
       " 'to',\n",
       " 'the',\n",
       " 'synagogues',\n",
       " 'and',\n",
       " 'tell',\n",
       " 'people',\n",
       " 'about',\n",
       " 'Jesus',\n",
       " '.',\n",
       " 'He',\n",
       " 'told',\n",
       " 'the',\n",
       " 'people',\n",
       " ',',\n",
       " '``',\n",
       " 'Jesus',\n",
       " 'is',\n",
       " 'the',\n",
       " 'Son',\n",
       " 'of',\n",
       " 'God',\n",
       " '!',\n",
       " \"''\",\n",
       " 'All',\n",
       " 'the',\n",
       " 'people',\n",
       " 'who',\n",
       " 'heard',\n",
       " 'Saul',\n",
       " 'were',\n",
       " 'amazed',\n",
       " '.',\n",
       " 'They',\n",
       " 'said',\n",
       " ',',\n",
       " '``',\n",
       " 'This',\n",
       " 'is',\n",
       " 'the',\n",
       " 'same',\n",
       " 'man',\n",
       " 'who',\n",
       " 'was',\n",
       " 'in',\n",
       " 'Jerusalem',\n",
       " 'trying',\n",
       " 'to',\n",
       " 'destroy',\n",
       " 'the',\n",
       " 'people',\n",
       " 'who',\n",
       " 'trust',\n",
       " 'in',\n",
       " 'Jesus',\n",
       " '!',\n",
       " 'And',\n",
       " 'that',\n",
       " \"'s\",\n",
       " 'why',\n",
       " 'he',\n",
       " 'has',\n",
       " 'come',\n",
       " 'here',\n",
       " '--',\n",
       " 'to',\n",
       " 'arrest',\n",
       " 'the',\n",
       " 'followers',\n",
       " 'of',\n",
       " 'Jesus',\n",
       " 'and',\n",
       " 'take',\n",
       " 'them',\n",
       " 'back',\n",
       " 'to',\n",
       " 'the',\n",
       " 'leading',\n",
       " 'priests',\n",
       " '.',\n",
       " \"''\",\n",
       " 'But',\n",
       " 'Saul',\n",
       " 'became',\n",
       " 'more',\n",
       " 'and',\n",
       " 'more',\n",
       " 'powerful',\n",
       " 'in',\n",
       " 'proving',\n",
       " 'that',\n",
       " 'Jesus',\n",
       " 'is',\n",
       " 'the',\n",
       " 'Christ',\n",
       " '.',\n",
       " 'His',\n",
       " 'proofs',\n",
       " 'were',\n",
       " 'so',\n",
       " 'strong',\n",
       " 'that',\n",
       " 'the',\n",
       " 'Jews',\n",
       " 'who',\n",
       " 'lived',\n",
       " 'in',\n",
       " 'Damascus',\n",
       " 'could',\n",
       " 'not',\n",
       " 'argue',\n",
       " 'with',\n",
       " 'him',\n",
       " '.',\n",
       " 'After',\n",
       " 'many',\n",
       " 'days',\n",
       " ',',\n",
       " 'some',\n",
       " 'Jews',\n",
       " 'made',\n",
       " 'plans',\n",
       " 'to',\n",
       " 'kill',\n",
       " 'Saul',\n",
       " '.',\n",
       " 'They',\n",
       " 'were',\n",
       " 'watching',\n",
       " 'the',\n",
       " 'city',\n",
       " 'gates',\n",
       " 'day',\n",
       " 'and',\n",
       " 'night',\n",
       " '.',\n",
       " 'They',\n",
       " 'wanted',\n",
       " 'to',\n",
       " 'kill',\n",
       " 'Saul',\n",
       " ',',\n",
       " 'but',\n",
       " 'he',\n",
       " 'learned',\n",
       " 'about',\n",
       " 'their',\n",
       " 'plan',\n",
       " '.',\n",
       " 'One',\n",
       " 'night',\n",
       " 'some',\n",
       " 'followers',\n",
       " 'that',\n",
       " 'Saul',\n",
       " 'had',\n",
       " 'taught',\n",
       " 'helped',\n",
       " 'him',\n",
       " 'leave',\n",
       " 'the',\n",
       " 'city',\n",
       " '.',\n",
       " 'They',\n",
       " 'put',\n",
       " 'him',\n",
       " 'in',\n",
       " 'a',\n",
       " 'basket',\n",
       " 'and',\n",
       " 'lowered',\n",
       " 'it',\n",
       " 'down',\n",
       " 'through',\n",
       " 'a',\n",
       " 'hole',\n",
       " 'in',\n",
       " 'the',\n",
       " 'city',\n",
       " 'wall',\n",
       " '.',\n",
       " 'Then',\n",
       " 'Saul',\n",
       " 'went',\n",
       " 'to',\n",
       " 'Jerusalem',\n",
       " '.',\n",
       " 'He',\n",
       " 'tried',\n",
       " 'to',\n",
       " 'join',\n",
       " 'the',\n",
       " 'group',\n",
       " 'of',\n",
       " 'followers',\n",
       " ',',\n",
       " 'but',\n",
       " 'they',\n",
       " 'were',\n",
       " 'all',\n",
       " 'afraid',\n",
       " 'of',\n",
       " 'him',\n",
       " '.',\n",
       " 'They',\n",
       " 'did',\n",
       " 'not',\n",
       " 'believe',\n",
       " 'that',\n",
       " 'he',\n",
       " 'was',\n",
       " 'really',\n",
       " 'a',\n",
       " 'follower',\n",
       " 'of',\n",
       " 'Jesus',\n",
       " '.',\n",
       " 'But',\n",
       " 'Barnabas',\n",
       " 'accepted',\n",
       " 'Saul',\n",
       " 'and',\n",
       " 'took',\n",
       " 'him',\n",
       " 'to',\n",
       " 'the',\n",
       " 'apostles',\n",
       " '.',\n",
       " 'He',\n",
       " 'told',\n",
       " 'them',\n",
       " 'how',\n",
       " 'Saul',\n",
       " 'had',\n",
       " 'seen',\n",
       " 'the',\n",
       " 'Lord',\n",
       " 'on',\n",
       " 'the',\n",
       " 'road',\n",
       " 'and',\n",
       " 'how',\n",
       " 'the',\n",
       " 'Lord',\n",
       " 'had',\n",
       " 'spoken',\n",
       " 'to',\n",
       " 'Saul',\n",
       " '.',\n",
       " 'Then',\n",
       " 'he',\n",
       " 'told',\n",
       " 'them',\n",
       " 'how',\n",
       " 'boldly',\n",
       " 'Saul',\n",
       " 'had',\n",
       " 'spoken',\n",
       " 'for',\n",
       " 'the',\n",
       " 'Lord',\n",
       " 'in',\n",
       " 'Damascus',\n",
       " '.',\n",
       " 'And',\n",
       " 'so',\n",
       " 'Saul',\n",
       " 'stayed',\n",
       " 'with',\n",
       " 'the',\n",
       " 'followers',\n",
       " 'and',\n",
       " 'went',\n",
       " 'all',\n",
       " 'around',\n",
       " 'Jerusalem',\n",
       " 'speaking',\n",
       " 'boldly',\n",
       " 'for',\n",
       " 'the',\n",
       " 'Lord',\n",
       " '.',\n",
       " 'He',\n",
       " 'often',\n",
       " 'had',\n",
       " 'arguments',\n",
       " 'with',\n",
       " 'the',\n",
       " 'Greek',\n",
       " '-',\n",
       " 'speaking',\n",
       " 'Jews',\n",
       " ',',\n",
       " 'who',\n",
       " 'began',\n",
       " 'making',\n",
       " 'plans',\n",
       " 'to',\n",
       " 'kill',\n",
       " 'him',\n",
       " '.',\n",
       " 'When',\n",
       " 'the',\n",
       " 'believers',\n",
       " 'learned',\n",
       " 'about',\n",
       " 'this',\n",
       " ',',\n",
       " 'they',\n",
       " 'took',\n",
       " 'Saul',\n",
       " 'to',\n",
       " 'Caesarea',\n",
       " ',',\n",
       " 'and',\n",
       " 'from',\n",
       " 'there',\n",
       " 'they',\n",
       " 'sent',\n",
       " 'him',\n",
       " 'to',\n",
       " 'the',\n",
       " 'city',\n",
       " 'of',\n",
       " 'Tarsus',\n",
       " '.',\n",
       " 'The',\n",
       " 'church',\n",
       " 'in',\n",
       " 'Judea',\n",
       " ',',\n",
       " 'Galilee',\n",
       " ',',\n",
       " 'and',\n",
       " 'Samaria',\n",
       " 'had',\n",
       " 'a',\n",
       " 'time',\n",
       " 'of',\n",
       " 'peace',\n",
       " '.',\n",
       " 'With',\n",
       " 'the',\n",
       " 'help',\n",
       " 'of',\n",
       " 'the',\n",
       " 'Holy',\n",
       " 'Spirit',\n",
       " ',',\n",
       " 'the',\n",
       " 'groups',\n",
       " 'of',\n",
       " 'believers',\n",
       " 'became',\n",
       " 'stronger',\n",
       " 'and',\n",
       " 'showed',\n",
       " 'their',\n",
       " 'respect',\n",
       " 'for',\n",
       " 'the',\n",
       " 'Lord',\n",
       " 'by',\n",
       " 'the',\n",
       " 'way',\n",
       " 'they',\n",
       " 'lived',\n",
       " '.',\n",
       " 'So',\n",
       " 'the',\n",
       " 'church',\n",
       " 'everywhere',\n",
       " 'grew',\n",
       " 'in',\n",
       " 'numbers',\n",
       " '.',\n",
       " 'Peter',\n",
       " 'was',\n",
       " 'traveling',\n",
       " 'through',\n",
       " 'all',\n",
       " 'the',\n",
       " 'areas',\n",
       " 'around',\n",
       " 'Jerusalem',\n",
       " ',',\n",
       " 'and',\n",
       " 'he',\n",
       " 'stopped',\n",
       " 'to',\n",
       " 'visit',\n",
       " 'the',\n",
       " 'believers',\n",
       " 'who',\n",
       " 'lived',\n",
       " 'in',\n",
       " 'Lydda',\n",
       " '.',\n",
       " 'There',\n",
       " 'he',\n",
       " 'met',\n",
       " 'a',\n",
       " 'man',\n",
       " 'named',\n",
       " 'Aeneas',\n",
       " ',',\n",
       " 'who',\n",
       " 'was',\n",
       " 'paralyzed',\n",
       " 'and',\n",
       " 'had',\n",
       " 'not',\n",
       " 'been',\n",
       " ...]"
      ]
     },
     "execution_count": 4,
     "metadata": {},
     "output_type": "execute_result"
    }
   ],
   "source": [
    "list(test_df[\"col3\"])"
   ]
  },
  {
   "cell_type": "code",
   "execution_count": 7,
   "metadata": {},
   "outputs": [
    {
     "data": {
      "text/plain": [
       "True"
      ]
     },
     "execution_count": 7,
     "metadata": {},
     "output_type": "execute_result"
    }
   ],
   "source": [
    "\"ki\" != \"hi\""
   ]
  },
  {
   "cell_type": "code",
   "execution_count": 8,
   "metadata": {},
   "outputs": [],
   "source": [
    "from collections import defaultdict"
   ]
  },
  {
   "cell_type": "code",
   "execution_count": 15,
   "metadata": {},
   "outputs": [],
   "source": [
    "dd = defaultdict(list)"
   ]
  },
  {
   "cell_type": "code",
   "execution_count": 18,
   "metadata": {},
   "outputs": [],
   "source": [
    "dd[19].append(14)"
   ]
  },
  {
   "cell_type": "code",
   "execution_count": 19,
   "metadata": {},
   "outputs": [
    {
     "data": {
      "text/plain": [
       "defaultdict(list, {19: [3, 4, 14]})"
      ]
     },
     "execution_count": 19,
     "metadata": {},
     "output_type": "execute_result"
    }
   ],
   "source": [
    "dd"
   ]
  },
  {
   "cell_type": "code",
   "execution_count": 21,
   "metadata": {},
   "outputs": [
    {
     "data": {
      "text/plain": [
       "[4, 14]"
      ]
     },
     "execution_count": 21,
     "metadata": {},
     "output_type": "execute_result"
    }
   ],
   "source": [
    "dd[19][-2:]"
   ]
  },
  {
   "cell_type": "code",
   "execution_count": 38,
   "metadata": {},
   "outputs": [],
   "source": [
    "a = 3"
   ]
  },
  {
   "cell_type": "code",
   "execution_count": 58,
   "metadata": {},
   "outputs": [],
   "source": [
    "def batch_by_doc(size, firsts):\n",
    "\n",
    "    batch = []\n",
    "    i = 1\n",
    "    j = 0\n",
    "    while i < len(firsts):\n",
    "        if j < firsts[i]:\n",
    "            batch.append(j)\n",
    "        else:\n",
    "            yield batch\n",
    "            i += 1\n",
    "            batch = [j]\n",
    "        j += 1\n",
    "    yield list(range(firsts[i - 1], size))"
   ]
  },
  {
   "cell_type": "code",
   "execution_count": 52,
   "metadata": {},
   "outputs": [],
   "source": [
    "firsts = [0, 4, 12, 25]\n",
    "size = 29"
   ]
  },
  {
   "cell_type": "code",
   "execution_count": 59,
   "metadata": {},
   "outputs": [
    {
     "name": "stdout",
     "output_type": "stream",
     "text": [
      "[0, 1, 2, 3]\n",
      "[4, 5, 6, 7, 8, 9, 10, 11]\n",
      "[12, 13, 14, 15, 16, 17, 18, 19, 20, 21, 22, 23, 24]\n",
      "[25, 26, 27, 28]\n"
     ]
    }
   ],
   "source": [
    "for b in batch_by_doc(size, firsts):\n",
    "    print(b)"
   ]
  },
  {
   "cell_type": "code",
   "execution_count": 55,
   "metadata": {},
   "outputs": [
    {
     "data": {
      "text/plain": [
       "([0, 1, 2, 3],\n",
       " [4, 5, 6, 7, 8, 9, 10, 11],\n",
       " [12, 13, 14, 15, 16, 17, 18, 19, 20, 21, 22, 23, 24],\n",
       " [25, 26, 27, 28])"
      ]
     },
     "execution_count": 55,
     "metadata": {},
     "output_type": "execute_result"
    }
   ],
   "source": [
    "tuple(batch_by_doc(size, firsts))"
   ]
  },
  {
   "cell_type": "code",
   "execution_count": 62,
   "metadata": {},
   "outputs": [
    {
     "data": {
      "text/plain": [
       "True"
      ]
     },
     "execution_count": 62,
     "metadata": {},
     "output_type": "execute_result"
    }
   ],
   "source": [
    "3 in [3]"
   ]
  },
  {
   "cell_type": "code",
   "execution_count": 63,
   "metadata": {},
   "outputs": [],
   "source": [
    "def f(a):\n",
    "    a = 3\n",
    "    assert False"
   ]
  },
  {
   "cell_type": "code",
   "execution_count": 64,
   "metadata": {},
   "outputs": [],
   "source": [
    "b = 4"
   ]
  },
  {
   "cell_type": "code",
   "execution_count": 65,
   "metadata": {},
   "outputs": [
    {
     "ename": "AssertionError",
     "evalue": "",
     "output_type": "error",
     "traceback": [
      "\u001b[0;31m---------------------------------------------------------------------------\u001b[0m",
      "\u001b[0;31mAssertionError\u001b[0m                            Traceback (most recent call last)",
      "\u001b[0;32m<ipython-input-65-cc9a2e79d078>\u001b[0m in \u001b[0;36m<module>\u001b[0;34m\u001b[0m\n\u001b[0;32m----> 1\u001b[0;31m \u001b[0mf\u001b[0m\u001b[0;34m(\u001b[0m\u001b[0mb\u001b[0m\u001b[0;34m)\u001b[0m\u001b[0;34m\u001b[0m\u001b[0;34m\u001b[0m\u001b[0m\n\u001b[0m",
      "\u001b[0;32m<ipython-input-63-3de070a21479>\u001b[0m in \u001b[0;36mf\u001b[0;34m(a)\u001b[0m\n\u001b[1;32m      1\u001b[0m \u001b[0;32mdef\u001b[0m \u001b[0mf\u001b[0m\u001b[0;34m(\u001b[0m\u001b[0ma\u001b[0m\u001b[0;34m)\u001b[0m\u001b[0;34m:\u001b[0m\u001b[0;34m\u001b[0m\u001b[0;34m\u001b[0m\u001b[0m\n\u001b[1;32m      2\u001b[0m     \u001b[0ma\u001b[0m \u001b[0;34m=\u001b[0m \u001b[0;36m3\u001b[0m\u001b[0;34m\u001b[0m\u001b[0;34m\u001b[0m\u001b[0m\n\u001b[0;32m----> 3\u001b[0;31m     \u001b[0;32massert\u001b[0m \u001b[0;32mFalse\u001b[0m\u001b[0;34m\u001b[0m\u001b[0;34m\u001b[0m\u001b[0m\n\u001b[0m",
      "\u001b[0;31mAssertionError\u001b[0m: "
     ]
    }
   ],
   "source": [
    "f(b)"
   ]
  },
  {
   "cell_type": "code",
   "execution_count": 66,
   "metadata": {},
   "outputs": [
    {
     "data": {
      "text/plain": [
       "4"
      ]
     },
     "execution_count": 66,
     "metadata": {},
     "output_type": "execute_result"
    }
   ],
   "source": [
    "b"
   ]
  },
  {
   "cell_type": "code",
   "execution_count": 67,
   "metadata": {},
   "outputs": [],
   "source": [
    "b = [1,2,4,5,3]"
   ]
  },
  {
   "cell_type": "code",
   "execution_count": 75,
   "metadata": {},
   "outputs": [],
   "source": [
    "b[2:4] = [[0,0]]"
   ]
  },
  {
   "cell_type": "code",
   "execution_count": 76,
   "metadata": {},
   "outputs": [
    {
     "data": {
      "text/plain": [
       "[1, 2, [0, 0]]"
      ]
     },
     "execution_count": 76,
     "metadata": {},
     "output_type": "execute_result"
    }
   ],
   "source": [
    "b"
   ]
  },
  {
   "cell_type": "code",
   "execution_count": 92,
   "metadata": {},
   "outputs": [],
   "source": [
    "def g(**kwargs):\n",
    "    print(kwargs)\n",
    "    print(len(kwargs.items()))"
   ]
  },
  {
   "cell_type": "code",
   "execution_count": 93,
   "metadata": {},
   "outputs": [
    {
     "name": "stdout",
     "output_type": "stream",
     "text": [
      "{'s': 2, 'pk': 3}\n",
      "2\n"
     ]
    }
   ],
   "source": [
    "g(s=2, pk=3)"
   ]
  },
  {
   "cell_type": "code",
   "execution_count": 95,
   "metadata": {},
   "outputs": [
    {
     "name": "stdout",
     "output_type": "stream",
     "text": [
      "0\n",
      "1\n",
      "2\n",
      "3\n"
     ]
    }
   ],
   "source": [
    "for i in range(10):\n",
    "    print(i)\n",
    "    if i == 3:\n",
    "        break"
   ]
  },
  {
   "cell_type": "code",
   "execution_count": 96,
   "metadata": {},
   "outputs": [
    {
     "data": {
      "text/plain": [
       "1"
      ]
     },
     "execution_count": 96,
     "metadata": {},
     "output_type": "execute_result"
    }
   ],
   "source": [
    "min([2,3,1])"
   ]
  },
  {
   "cell_type": "code",
   "execution_count": 97,
   "metadata": {},
   "outputs": [
    {
     "data": {
      "text/plain": [
       "'2345'"
      ]
     },
     "execution_count": 97,
     "metadata": {},
     "output_type": "execute_result"
    }
   ],
   "source": [
    "strin = \"0123456\"\n",
    "strin[2:6]"
   ]
  },
  {
   "cell_type": "code",
   "execution_count": 98,
   "metadata": {},
   "outputs": [],
   "source": [
    "x = 23"
   ]
  },
  {
   "cell_type": "code",
   "execution_count": 99,
   "metadata": {},
   "outputs": [],
   "source": [
    "l = [x]"
   ]
  },
  {
   "cell_type": "code",
   "execution_count": 100,
   "metadata": {},
   "outputs": [],
   "source": [
    "ll = [2, x]"
   ]
  },
  {
   "cell_type": "code",
   "execution_count": 106,
   "metadata": {},
   "outputs": [
    {
     "data": {
      "text/plain": [
       "[2, 23]"
      ]
     },
     "execution_count": 106,
     "metadata": {},
     "output_type": "execute_result"
    }
   ],
   "source": [
    "ll"
   ]
  },
  {
   "cell_type": "code",
   "execution_count": 105,
   "metadata": {},
   "outputs": [],
   "source": [
    "x = 3"
   ]
  },
  {
   "cell_type": "code",
   "execution_count": 115,
   "metadata": {},
   "outputs": [],
   "source": [
    "def f(**kwargs):\n",
    "    print(type(kwargs))\n",
    "    if kwargs.items() == 2:\n",
    "        print(\"tekram\")"
   ]
  },
  {
   "cell_type": "code",
   "execution_count": 116,
   "metadata": {},
   "outputs": [
    {
     "name": "stdout",
     "output_type": "stream",
     "text": [
      "<class 'dict'>\n"
     ]
    }
   ],
   "source": [
    "f(abel=2, babel=\"é\")"
   ]
  },
  {
   "cell_type": "code",
   "execution_count": 124,
   "metadata": {},
   "outputs": [],
   "source": [
    "class dezf():\n",
    "    def __init__(self, **kwargs):\n",
    "        if \"build\" in kwargs.keys():\n",
    "            print(\"it worked\")\n",
    "            print(kwargs[\"build\"])\n",
    "        elif len(kwargs) == 0: \n",
    "            print(\"no params\")\n",
    "            "
   ]
  },
  {
   "cell_type": "code",
   "execution_count": 127,
   "metadata": {},
   "outputs": [
    {
     "name": "stdout",
     "output_type": "stream",
     "text": [
      "no params\n"
     ]
    },
    {
     "data": {
      "text/plain": [
       "<__main__.dezf at 0x7f61eacd1e10>"
      ]
     },
     "execution_count": 127,
     "metadata": {},
     "output_type": "execute_result"
    }
   ],
   "source": [
    "dezf()"
   ]
  },
  {
   "cell_type": "code",
   "execution_count": 128,
   "metadata": {},
   "outputs": [],
   "source": [
    "class Boss():\n",
    "    def __init__(self, s):\n",
    "        self.s = s"
   ]
  },
  {
   "cell_type": "code",
   "execution_count": 129,
   "metadata": {},
   "outputs": [],
   "source": [
    "l = [Boss(3), Boss(2)]"
   ]
  },
  {
   "cell_type": "code",
   "execution_count": 130,
   "metadata": {},
   "outputs": [
    {
     "data": {
      "text/plain": [
       "[<__main__.Boss at 0x7f61eb144828>, <__main__.Boss at 0x7f61eb1447f0>]"
      ]
     },
     "execution_count": 130,
     "metadata": {},
     "output_type": "execute_result"
    }
   ],
   "source": [
    "l"
   ]
  },
  {
   "cell_type": "code",
   "execution_count": 132,
   "metadata": {},
   "outputs": [],
   "source": [
    "l[0].s = 4"
   ]
  },
  {
   "cell_type": "code",
   "execution_count": 134,
   "metadata": {},
   "outputs": [
    {
     "data": {
      "text/plain": [
       "4"
      ]
     },
     "execution_count": 134,
     "metadata": {},
     "output_type": "execute_result"
    }
   ],
   "source": [
    "l[0].s"
   ]
  },
  {
   "cell_type": "code",
   "execution_count": null,
   "metadata": {},
   "outputs": [],
   "source": []
  }
 ],
 "metadata": {
  "kernelspec": {
   "display_name": "env_1",
   "language": "python",
   "name": "env_1"
  },
  "language_info": {
   "codemirror_mode": {
    "name": "ipython",
    "version": 3
   },
   "file_extension": ".py",
   "mimetype": "text/x-python",
   "name": "python",
   "nbconvert_exporter": "python",
   "pygments_lexer": "ipython3",
   "version": "3.7.2"
  },
  "toc": {
   "base_numbering": 1,
   "nav_menu": {},
   "number_sections": true,
   "sideBar": true,
   "skip_h1_title": false,
   "title_cell": "Table of Contents",
   "title_sidebar": "Contents",
   "toc_cell": false,
   "toc_position": {},
   "toc_section_display": true,
   "toc_window_display": false
  }
 },
 "nbformat": 4,
 "nbformat_minor": 2
}
