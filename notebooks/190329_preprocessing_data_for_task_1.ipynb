{
 "cells": [
  {
   "cell_type": "markdown",
   "metadata": {},
   "source": [
    "First use: 190329 (CoNLL 2012)\n",
    "\n",
    "Second use: 190502 (ANCOR)\n",
    "\n",
    "Third use: 190531 (creating the firsts lists for both datasets)"
   ]
  },
  {
   "cell_type": "code",
   "execution_count": 1,
   "metadata": {},
   "outputs": [],
   "source": [
    "import csv\n",
    "import pandas as pd\n",
    "import numpy as np\n",
    "from os import listdir\n",
    "from shutil import copyfile"
   ]
  },
  {
   "cell_type": "code",
   "execution_count": 2,
   "metadata": {},
   "outputs": [],
   "source": [
    "data_source = \"CoNLL_2012\"\n",
    "#data_source = \"ANCORE\""
   ]
  },
  {
   "cell_type": "markdown",
   "metadata": {},
   "source": [
    "# Prepare data for preprocessing"
   ]
  },
  {
   "cell_type": "code",
   "execution_count": 3,
   "metadata": {},
   "outputs": [
    {
     "data": {
      "text/html": [
       "<div>\n",
       "<style scoped>\n",
       "    .dataframe tbody tr th:only-of-type {\n",
       "        vertical-align: middle;\n",
       "    }\n",
       "\n",
       "    .dataframe tbody tr th {\n",
       "        vertical-align: top;\n",
       "    }\n",
       "\n",
       "    .dataframe thead th {\n",
       "        text-align: right;\n",
       "    }\n",
       "</style>\n",
       "<table border=\"1\" class=\"dataframe\">\n",
       "  <thead>\n",
       "    <tr style=\"text-align: right;\">\n",
       "      <th></th>\n",
       "      <th>Unnamed: 0</th>\n",
       "      <th>col0</th>\n",
       "      <th>col0.1</th>\n",
       "      <th>col1</th>\n",
       "      <th>col2</th>\n",
       "      <th>col3</th>\n",
       "      <th>col4</th>\n",
       "      <th>col5</th>\n",
       "      <th>col6</th>\n",
       "      <th>col7</th>\n",
       "      <th>col8</th>\n",
       "      <th>col9</th>\n",
       "      <th>col10</th>\n",
       "      <th>col11</th>\n",
       "      <th>col12</th>\n",
       "      <th>col13</th>\n",
       "      <th>col14</th>\n",
       "    </tr>\n",
       "  </thead>\n",
       "  <tbody>\n",
       "    <tr>\n",
       "      <th>0</th>\n",
       "      <td>0</td>\n",
       "      <td>pt/nt/44/nt_4409</td>\n",
       "      <td>pt</td>\n",
       "      <td>0</td>\n",
       "      <td>0</td>\n",
       "      <td>In</td>\n",
       "      <td>IN</td>\n",
       "      <td>(TOP(S(PP*</td>\n",
       "      <td>-</td>\n",
       "      <td>-</td>\n",
       "      <td>-</td>\n",
       "      <td>Acts</td>\n",
       "      <td>*</td>\n",
       "      <td>-</td>\n",
       "      <td>O</td>\n",
       "      <td>O</td>\n",
       "      <td>O</td>\n",
       "    </tr>\n",
       "    <tr>\n",
       "      <th>1</th>\n",
       "      <td>1</td>\n",
       "      <td>pt/nt/44/nt_4409</td>\n",
       "      <td>pt</td>\n",
       "      <td>0</td>\n",
       "      <td>1</td>\n",
       "      <td>Jerusalem</td>\n",
       "      <td>NNP</td>\n",
       "      <td>(NP*))</td>\n",
       "      <td>-</td>\n",
       "      <td>-</td>\n",
       "      <td>-</td>\n",
       "      <td>Acts</td>\n",
       "      <td>*</td>\n",
       "      <td>(6)</td>\n",
       "      <td>B</td>\n",
       "      <td>B-N</td>\n",
       "      <td>B-N</td>\n",
       "    </tr>\n",
       "    <tr>\n",
       "      <th>2</th>\n",
       "      <td>2</td>\n",
       "      <td>pt/nt/44/nt_4409</td>\n",
       "      <td>pt</td>\n",
       "      <td>0</td>\n",
       "      <td>2</td>\n",
       "      <td>Saul</td>\n",
       "      <td>NNP</td>\n",
       "      <td>(NP*)</td>\n",
       "      <td>-</td>\n",
       "      <td>-</td>\n",
       "      <td>-</td>\n",
       "      <td>Acts</td>\n",
       "      <td>*</td>\n",
       "      <td>(9)</td>\n",
       "      <td>B</td>\n",
       "      <td>B-N</td>\n",
       "      <td>B-N</td>\n",
       "    </tr>\n",
       "    <tr>\n",
       "      <th>3</th>\n",
       "      <td>3</td>\n",
       "      <td>pt/nt/44/nt_4409</td>\n",
       "      <td>pt</td>\n",
       "      <td>0</td>\n",
       "      <td>3</td>\n",
       "      <td>was</td>\n",
       "      <td>VBD</td>\n",
       "      <td>(VP*</td>\n",
       "      <td>-</td>\n",
       "      <td>-</td>\n",
       "      <td>-</td>\n",
       "      <td>Acts</td>\n",
       "      <td>*</td>\n",
       "      <td>-</td>\n",
       "      <td>O</td>\n",
       "      <td>O</td>\n",
       "      <td>O</td>\n",
       "    </tr>\n",
       "    <tr>\n",
       "      <th>4</th>\n",
       "      <td>4</td>\n",
       "      <td>pt/nt/44/nt_4409</td>\n",
       "      <td>pt</td>\n",
       "      <td>0</td>\n",
       "      <td>4</td>\n",
       "      <td>still</td>\n",
       "      <td>RB</td>\n",
       "      <td>(ADVP*)</td>\n",
       "      <td>-</td>\n",
       "      <td>-</td>\n",
       "      <td>-</td>\n",
       "      <td>Acts</td>\n",
       "      <td>*</td>\n",
       "      <td>-</td>\n",
       "      <td>O</td>\n",
       "      <td>O</td>\n",
       "      <td>O</td>\n",
       "    </tr>\n",
       "  </tbody>\n",
       "</table>\n",
       "</div>"
      ],
      "text/plain": [
       "   Unnamed: 0              col0 col0.1  col1  col2       col3 col4  \\\n",
       "0           0  pt/nt/44/nt_4409     pt     0     0         In   IN   \n",
       "1           1  pt/nt/44/nt_4409     pt     0     1  Jerusalem  NNP   \n",
       "2           2  pt/nt/44/nt_4409     pt     0     2       Saul  NNP   \n",
       "3           3  pt/nt/44/nt_4409     pt     0     3        was  VBD   \n",
       "4           4  pt/nt/44/nt_4409     pt     0     4      still   RB   \n",
       "\n",
       "         col5 col6 col7 col8  col9 col10 col11 col12 col13 col14  \n",
       "0  (TOP(S(PP*    -    -    -  Acts     *     -     O     O     O  \n",
       "1      (NP*))    -    -    -  Acts     *   (6)     B   B-N   B-N  \n",
       "2       (NP*)    -    -    -  Acts     *   (9)     B   B-N   B-N  \n",
       "3        (VP*    -    -    -  Acts     *     -     O     O     O  \n",
       "4     (ADVP*)    -    -    -  Acts     *     -     O     O     O  "
      ]
     },
     "execution_count": 3,
     "metadata": {},
     "output_type": "execute_result"
    }
   ],
   "source": [
    "test_df = pd.read_csv(\"../../data/structured_{}/test.csv\".format(data_source))\n",
    "test_df.head()"
   ]
  },
  {
   "cell_type": "code",
   "execution_count": 4,
   "metadata": {
    "scrolled": true
   },
   "outputs": [
    {
     "data": {
      "text/plain": [
       "(169579, 17)"
      ]
     },
     "execution_count": 4,
     "metadata": {},
     "output_type": "execute_result"
    }
   ],
   "source": [
    "test_df.shape"
   ]
  },
  {
   "cell_type": "code",
   "execution_count": 5,
   "metadata": {},
   "outputs": [],
   "source": [
    "sets = [\"dev\", \"test\", \"train\"] #my datasets labels\n",
    "splits = [\"valid\", \"test\", \"train\"] #fairseq's datasets labels\n",
    "sides = [\"input\", \"label\"]"
   ]
  },
  {
   "cell_type": "code",
   "execution_count": 3,
   "metadata": {},
   "outputs": [
    {
     "ename": "NameError",
     "evalue": "name 'sdf' is not defined",
     "output_type": "error",
     "traceback": [
      "\u001b[0;31m---------------------------------------------------------------------------\u001b[0m",
      "\u001b[0;31mNameError\u001b[0m                                 Traceback (most recent call last)",
      "\u001b[0;32m<ipython-input-3-e8f7676712b9>\u001b[0m in \u001b[0;36m<module>\u001b[0;34m\u001b[0m\n\u001b[0;32m----> 1\u001b[0;31m \u001b[0msdf\u001b[0m\u001b[0;34m\u001b[0m\u001b[0;34m\u001b[0m\u001b[0m\n\u001b[0m\u001b[1;32m      2\u001b[0m \u001b[0;32mfor\u001b[0m \u001b[0mi\u001b[0m \u001b[0;32min\u001b[0m \u001b[0mrange\u001b[0m\u001b[0;34m(\u001b[0m\u001b[0;36m3\u001b[0m\u001b[0;34m)\u001b[0m\u001b[0;34m:\u001b[0m \u001b[0;31m#split index\u001b[0m\u001b[0;34m\u001b[0m\u001b[0;34m\u001b[0m\u001b[0m\n\u001b[1;32m      3\u001b[0m \u001b[0;34m\u001b[0m\u001b[0m\n\u001b[1;32m      4\u001b[0m     \u001b[0msplit_dataframe\u001b[0m \u001b[0;34m=\u001b[0m \u001b[0mpd\u001b[0m\u001b[0;34m.\u001b[0m\u001b[0mread_csv\u001b[0m\u001b[0;34m(\u001b[0m\u001b[0;34m\"../../data/structured_{}/{}.csv\"\u001b[0m\u001b[0;34m.\u001b[0m\u001b[0mformat\u001b[0m\u001b[0;34m(\u001b[0m\u001b[0mdata_source\u001b[0m\u001b[0;34m,\u001b[0m \u001b[0msets\u001b[0m\u001b[0;34m[\u001b[0m\u001b[0mi\u001b[0m\u001b[0;34m]\u001b[0m\u001b[0;34m)\u001b[0m\u001b[0;34m)\u001b[0m\u001b[0;34m\u001b[0m\u001b[0;34m\u001b[0m\u001b[0m\n\u001b[1;32m      5\u001b[0m     \u001b[0mdf_size\u001b[0m \u001b[0;34m=\u001b[0m \u001b[0msplit_dataframe\u001b[0m\u001b[0;34m.\u001b[0m\u001b[0mshape\u001b[0m\u001b[0;34m[\u001b[0m\u001b[0;36m0\u001b[0m\u001b[0;34m]\u001b[0m\u001b[0;34m\u001b[0m\u001b[0;34m\u001b[0m\u001b[0m\n",
      "\u001b[0;31mNameError\u001b[0m: name 'sdf' is not defined"
     ]
    }
   ],
   "source": [
    "for i in range(3): #split index\n",
    "    \n",
    "    split_dataframe = pd.read_csv(\"../../data/structured_{}/{}.csv\".format(data_source, sets[i]))\n",
    "    df_size = split_dataframe.shape[0]\n",
    "    \n",
    "    parent_path = \"../../data/structured_{}_to_preprocess/{}.\".format(data_source, splits[i])\n",
    "    with open(parent_path + \"input\", \"w\") as f_input, open(parent_path + \"label\", \"w\") as f_label:\n",
    "\n",
    "        k = 0\n",
    "        mini_input = [split_dataframe.loc[k, \"col3\"]]\n",
    "        mini_label = [split_dataframe.loc[k, \"col12\"]]\n",
    "\n",
    "        while k < df_size - 1:\n",
    "            #if end of a part or a document\n",
    "            print(k)\n",
    "            if (split_dataframe.loc[k, \"col0\"] != split_dataframe.loc[k+1, \"col0\"]) or \\\n",
    "            (split_dataframe.loc[k+1, \"col2\"] == 0) or \\\n",
    "            (split_dataframe.loc[k, \"col1\"] != split_dataframe.loc[k+1, \"col1\"]): #different doc or sentence or part ==> different \"sentence\" to translate or label\n",
    "\n",
    "                f_input.write(\" \".join(mini_input) + \"\\n\")\n",
    "                f_label.write(\" \".join(mini_label) + \"\\n\")\n",
    "\n",
    "                mini_input = [split_dataframe.loc[k+1, \"col3\"]]\n",
    "                mini_label = [split_dataframe.loc[k+1, \"col12\"]]\n",
    "                \n",
    "            else:\n",
    "                mini_input.append(str(split_dataframe.loc[k+1, \"col3\"]))\n",
    "                mini_label.append(str(split_dataframe.loc[k+1, \"col12\"]))\n",
    "\n",
    "            k += 1\n",
    "        \n",
    "        #last line of dataframe\n",
    "        mini_input.append(split_dataframe.loc[k, \"col3\"])\n",
    "        mini_label.append(split_dataframe.loc[k, \"col12\"])\n",
    "        f_input.write(\" \".join(mini_input) + \"\\n\")\n",
    "        f_label.write(\" \".join(mini_label) + \"\\n\")"
   ]
  },
  {
   "cell_type": "code",
   "execution_count": null,
   "metadata": {
    "scrolled": true
   },
   "outputs": [],
   "source": [
    "num_lines = 0\n",
    "with open(\"../../data/structured_{}_to_preprocess/train.input\".format(data_source, sets[i]), 'r') as f:\n",
    "    for line in f:\n",
    "        num_lines += 1\n",
    "print(\"Number of lines:\")\n",
    "print(num_lines)"
   ]
  },
  {
   "cell_type": "markdown",
   "metadata": {},
   "source": [
    "# Save first sentences indices to separate documents"
   ]
  },
  {
   "cell_type": "code",
   "execution_count": null,
   "metadata": {},
   "outputs": [],
   "source": [
    "firsts_list = [[], [], []]\n",
    "\n",
    "for i in range(3): #split index\n",
    "    \n",
    "    split_dataframe = pd.read_csv(\"../../data/structured_{}/{}.csv\".format(data_source, sets[i]))\n",
    "    df_size = split_dataframe.shape[0]\n",
    "    sentence_ctr = 0\n",
    "    \n",
    "    k = 0\n",
    "    firsts_list[i].append(k)\n",
    "    \n",
    "    k += 1\n",
    "\n",
    "    while k < df_size - 1:\n",
    "        #no need to worry about last line, as no sentence is made of a single line\n",
    "        \n",
    "        #if end of sentence\n",
    "        if (split_dataframe.loc[k+1, \"col2\"] == 0):\n",
    "            sentence_ctr += 1\n",
    "        \n",
    "        #if end of a part or a document\n",
    "        if (split_dataframe.loc[k, \"col0\"] != split_dataframe.loc[k+1, \"col0\"]) or \\\n",
    "        (split_dataframe.loc[k, \"col1\"] != split_dataframe.loc[k+1, \"col1\"]): #different doc or part ==> new first document line\n",
    "\n",
    "            firsts_list[i].append(sentence_ctr)\n",
    "        \n",
    "        k += 1"
   ]
  },
  {
   "cell_type": "code",
   "execution_count": null,
   "metadata": {},
   "outputs": [],
   "source": [
    "[len(e) for e in firsts_list]"
   ]
  },
  {
   "cell_type": "code",
   "execution_count": null,
   "metadata": {},
   "outputs": [],
   "source": [
    "firsts_list[0]"
   ]
  },
  {
   "cell_type": "code",
   "execution_count": null,
   "metadata": {},
   "outputs": [],
   "source": [
    "for i in range(3):\n",
    "    with open(\"../../data/{}.firsts.txt\".format(splits[i]), \"w\") as f:\n",
    "        for first in firsts_list[i]:\n",
    "            f.write(\"{}\\n\".format(first))"
   ]
  },
  {
   "cell_type": "markdown",
   "metadata": {},
   "source": [
    "# Check documents, parts and sentences"
   ]
  },
  {
   "cell_type": "code",
   "execution_count": null,
   "metadata": {},
   "outputs": [],
   "source": [
    "for i in range(3): #split index\n",
    "    \n",
    "    split_dataframe = pd.read_csv(\"../../data/structured_{}/{}.csv\".format(data_source, sets[i]))\n",
    "    df_size = split_dataframe.shape[0]\n",
    "\n",
    "    k = 0\n",
    "    print(\"new document\")\n",
    "    print(\"new part\")\n",
    "    print(\"new sentence\")\n",
    "    while k < df_size - 1:\n",
    "        print(k)\n",
    "        if (split_dataframe.loc[k, \"col0\"] != split_dataframe.loc[k+1, \"col0\"]): #END OF DOCUMENT + PART CONDITION\n",
    "            print(\"new document\")\n",
    "            print(\"new part\")\n",
    "        elif (split_dataframe.loc[k, \"col1\"] != split_dataframe.loc[k+1, \"col1\"]): #END OF PART (NOT DOC) CONDITION\n",
    "            print(\"new part\")\n",
    "            print(\"DAMN\")\n",
    "        if (split_dataframe.loc[k+1, \"col2\"] == 0): #END OF SENTENCE CONDITION\n",
    "            print(\"new sentence\")\n",
    "        k += 1"
   ]
  }
 ],
 "metadata": {
  "kernelspec": {
   "display_name": "env_1",
   "language": "python",
   "name": "env_1"
  },
  "language_info": {
   "codemirror_mode": {
    "name": "ipython",
    "version": 3
   },
   "file_extension": ".py",
   "mimetype": "text/x-python",
   "name": "python",
   "nbconvert_exporter": "python",
   "pygments_lexer": "ipython3",
   "version": "3.7.2"
  },
  "toc": {
   "base_numbering": 1,
   "nav_menu": {},
   "number_sections": true,
   "sideBar": true,
   "skip_h1_title": false,
   "title_cell": "Table of Contents",
   "title_sidebar": "Contents",
   "toc_cell": false,
   "toc_position": {
    "height": "calc(100% - 180px)",
    "left": "10px",
    "top": "150px",
    "width": "165px"
   },
   "toc_section_display": true,
   "toc_window_display": true
  }
 },
 "nbformat": 4,
 "nbformat_minor": 2
}
